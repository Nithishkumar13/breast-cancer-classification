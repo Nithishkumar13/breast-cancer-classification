{
  "nbformat": 4,
  "nbformat_minor": 0,
  "metadata": {
    "colab": {
      "name": "Cancer Classification.ipynb",
      "provenance": [],
      "private_outputs": true,
      "authorship_tag": "ABX9TyNiYtgserIKALhB9k4ST3JV",
      "include_colab_link": true
    },
    "kernelspec": {
      "name": "python3",
      "display_name": "Python 3"
    }
  },
  "cells": [
    {
      "cell_type": "markdown",
      "metadata": {
        "id": "view-in-github",
        "colab_type": "text"
      },
      "source": [
        "<a href=\"https://colab.research.google.com/github/Nithishkumar13/breast-cancer-classification/blob/main/Cancer_Classification.ipynb\" target=\"_parent\"><img src=\"https://colab.research.google.com/assets/colab-badge.svg\" alt=\"Open In Colab\"/></a>"
      ]
    },
    {
      "cell_type": "markdown",
      "metadata": {
        "id": "AfOGs7XGTmbe"
      },
      "source": [
        "# **BREAST CANCER CLASSIFICATION **\n",
        "</br>\n",
        "IMPORTING REQUIRED MODULES\n"
      ]
    },
    {
      "cell_type": "code",
      "metadata": {
        "id": "_RI4spM2EKB8"
      },
      "source": [
        "import pandas as pd \n",
        "import numpy as np\n",
        "import matplotlib.pyplot as plt\n",
        "import seaborn as sns\n",
        "from sklearn.datasets import load_breast_cancer\n",
        "from sklearn.preprocessing import StandardScaler\n",
        "from sklearn.model_selection import train_test_split\n",
        "from sklearn.neighbors import KNeighborsClassifier\n",
        "from sklearn.metrics import confusion_matrix,accuracy_score,classification_report\n",
        "cancer = load_breast_cancer()\n",
        "print(\"cancer dataset imported sucessfully\")"
      ],
      "execution_count": null,
      "outputs": []
    },
    {
      "cell_type": "code",
      "metadata": {
        "id": "SwbHWlDlGIpI"
      },
      "source": [
        "df=pd.DataFrame(data=cancer['data'],columns=cancer['feature_names'])\n",
        "df.shape"
      ],
      "execution_count": null,
      "outputs": []
    },
    {
      "cell_type": "code",
      "metadata": {
        "id": "CvJvC_YwGjcX"
      },
      "source": [
        "df.isnull().sum()"
      ],
      "execution_count": null,
      "outputs": []
    },
    {
      "cell_type": "code",
      "metadata": {
        "id": "Lo8VD_e3GoYJ"
      },
      "source": [
        "df.describe()"
      ],
      "execution_count": null,
      "outputs": []
    },
    {
      "cell_type": "markdown",
      "metadata": {
        "id": "YI3xQKGyUsKN"
      },
      "source": [
        "# STANDARDIZE THE VARIABLES\n",
        "\n"
      ]
    },
    {
      "cell_type": "code",
      "metadata": {
        "id": "qvOHSh-KHr1p"
      },
      "source": [
        "df1=pd.DataFrame(data=cancer['data'],columns=cancer['feature_names'])\n",
        "df1['target']=cancer['target']"
      ],
      "execution_count": null,
      "outputs": []
    },
    {
      "cell_type": "code",
      "metadata": {
        "id": "G5HWRg0JJ96w"
      },
      "source": [
        "sc=StandardScaler()\n",
        "x_scaled=sc.fit_transform(df)"
      ],
      "execution_count": null,
      "outputs": []
    },
    {
      "cell_type": "code",
      "metadata": {
        "id": "6bgzDJT9G0Yn"
      },
      "source": [
        "y=cancer['target']"
      ],
      "execution_count": null,
      "outputs": []
    },
    {
      "cell_type": "markdown",
      "metadata": {
        "id": "zUSxl5jzVTBu"
      },
      "source": [
        "# TRAIN TEST SPLIT"
      ]
    },
    {
      "cell_type": "code",
      "metadata": {
        "id": "dcTc11tRHFMJ"
      },
      "source": [
        "x_train,x_test,y_train,y_test=train_test_split(x_scaled,y,random_state=40,test_size=0.3)"
      ],
      "execution_count": null,
      "outputs": []
    },
    {
      "cell_type": "markdown",
      "metadata": {
        "id": "cyatFCe3Va69"
      },
      "source": [
        "# KNEIGHBORS CLASSIFIER"
      ]
    },
    {
      "cell_type": "code",
      "metadata": {
        "id": "zjp99WMFVaM9"
      },
      "source": [
        "k=1\n",
        "knn=KNeighborsClassifier(n_neighbors=k)\n",
        "model=knn.fit(x_train,y_train)\n",
        "y_pred=model.predict(x_test)"
      ],
      "execution_count": null,
      "outputs": []
    },
    {
      "cell_type": "code",
      "metadata": {
        "id": "3XOgvxyDWL7J"
      },
      "source": [
        "confusion_matrix(y_test,y_pred)"
      ],
      "execution_count": null,
      "outputs": []
    },
    {
      "cell_type": "code",
      "metadata": {
        "id": "qzrwhBCDWfCj"
      },
      "source": [
        "print(classification_report(y_test,y_pred))"
      ],
      "execution_count": null,
      "outputs": []
    },
    {
      "cell_type": "markdown",
      "metadata": {
        "id": "Jm3RjhHLXZik"
      },
      "source": [
        "# FINDING HIGHEST ACCURACY BY TRAIL AND ERROR"
      ]
    },
    {
      "cell_type": "code",
      "metadata": {
        "id": "we0sOG71H5QG"
      },
      "source": [
        "accuracy=[]\n",
        "for i in range(1,41):\n",
        "  knn=KNeighborsClassifier(n_neighbors=i)\n",
        "  model=knn.fit(x_train,y_train)\n",
        "  y_pred=model.predict(x_test)\n",
        "  accuracy+=[accuracy_score(y_test,y_pred)]"
      ],
      "execution_count": null,
      "outputs": []
    },
    {
      "cell_type": "code",
      "metadata": {
        "id": "edREBSV_I9F9"
      },
      "source": [
        "plt.scatter(range(1,41),accuracy)\n",
        "plt.plot(range(1,41),accuracy)\n",
        "plt.xlabel('neighbors(k)')\n",
        "plt.ylabel('accuracy')\n",
        "plt.title('neighbors vs accuracy')\n",
        "plt.grid(True)\n",
        "plt.show()"
      ],
      "execution_count": null,
      "outputs": []
    },
    {
      "cell_type": "code",
      "metadata": {
        "id": "a1G2euFIM3jt"
      },
      "source": [
        "print('achiveing heighest accuracy by k={} ,accuracy {:.3f}'.format(15,accuracy[14]))"
      ],
      "execution_count": null,
      "outputs": []
    },
    {
      "cell_type": "code",
      "metadata": {
        "id": "o9nQtQJ8QUWt"
      },
      "source": [
        ""
      ],
      "execution_count": null,
      "outputs": []
    }
  ]
}